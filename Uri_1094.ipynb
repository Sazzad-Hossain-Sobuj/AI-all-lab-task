{
  "nbformat": 4,
  "nbformat_minor": 0,
  "metadata": {
    "colab": {
      "provenance": [],
      "authorship_tag": "ABX9TyOptl1L+W7soivCtwYn0AAb",
      "include_colab_link": true
    },
    "kernelspec": {
      "name": "python3",
      "display_name": "Python 3"
    },
    "language_info": {
      "name": "python"
    }
  },
  "cells": [
    {
      "cell_type": "markdown",
      "metadata": {
        "id": "view-in-github",
        "colab_type": "text"
      },
      "source": [
        "<a href=\"https://colab.research.google.com/github/Sazzad-Hossain-Sobuj/AI-all-lab-task/blob/master/Uri_1094.ipynb\" target=\"_parent\"><img src=\"https://colab.research.google.com/assets/colab-badge.svg\" alt=\"Open In Colab\"/></a>"
      ]
    },
    {
      "cell_type": "code",
      "execution_count": null,
      "metadata": {
        "colab": {
          "base_uri": "https://localhost:8080/"
        },
        "id": "VP9-PlY-W_73",
        "outputId": "58e8ff30-6558-4861-89e8-f79b265c5ee2"
      },
      "outputs": [
        {
          "output_type": "stream",
          "name": "stdout",
          "text": [
            "10\n",
            "10 C\n",
            "6 R\n",
            "15 S\n",
            "14 R\n",
            "9 C\n",
            "6 R\n",
            "8 S\n",
            "5 C\n",
            "14 R\n",
            "5 C\n",
            "\n",
            "Total: 92 cobaias\n",
            "Total de coelhos: 29\n",
            "Total de ratos: 40\n",
            "Total de sapos: 23\n",
            "Percentual de coelhos: 31.52 %\n",
            "Percentual de ratos: 43.48 %\n",
            "Percentual de sapos: 25.00 %\n"
          ]
        }
      ],
      "source": [
        "n=int(input())\n",
        "C=0\n",
        "R=0\n",
        "S=0\n",
        "for i in range(n):\n",
        "    a,ch=list(map(str,input().split()))\n",
        "    a=int(a)\n",
        "    if(ch == 'C'):\n",
        "        C += a\n",
        "    elif (ch == 'R'):\n",
        "        R += a\n",
        "    else:\n",
        "        S += a\n",
        "total=C+R+S\n",
        "print(f'''\n",
        "Total: {total} cobaias\n",
        "Total de coelhos: {C}\n",
        "Total de ratos: {R}\n",
        "Total de sapos: {S}\n",
        "Percentual de coelhos: {((C*100)/total):0.2f} %\n",
        "Percentual de ratos: {((R*100)/total):0.2f} %\n",
        "Percentual de sapos: {((S*100)/total):0.2f} %''')"
      ]
    }
  ]
}