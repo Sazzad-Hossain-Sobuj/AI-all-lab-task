{
  "nbformat": 4,
  "nbformat_minor": 0,
  "metadata": {
    "colab": {
      "provenance": [],
      "authorship_tag": "ABX9TyMcblQOtqecPGejsGNYNzx6",
      "include_colab_link": true
    },
    "kernelspec": {
      "name": "python3",
      "display_name": "Python 3"
    },
    "language_info": {
      "name": "python"
    }
  },
  "cells": [
    {
      "cell_type": "markdown",
      "metadata": {
        "id": "view-in-github",
        "colab_type": "text"
      },
      "source": [
        "<a href=\"https://colab.research.google.com/github/Sazzad-Hossain-Sobuj/AI-all-lab-task/blob/master/uri_problem_solving.ipynb\" target=\"_parent\"><img src=\"https://colab.research.google.com/assets/colab-badge.svg\" alt=\"Open In Colab\"/></a>"
      ]
    },
    {
      "cell_type": "markdown",
      "source": [
        "**uri problem 1001**"
      ],
      "metadata": {
        "id": "9N0-5xkQFoe6"
      }
    },
    {
      "cell_type": "code",
      "source": [
        "A = int(input())\n",
        "B = int(input())\n",
        "X = A + B\n",
        "print('X = ',X,\"\\n\")"
      ],
      "metadata": {
        "colab": {
          "base_uri": "https://localhost:8080/"
        },
        "id": "OGPJ1DPBlWEu",
        "outputId": "f6614d21-3c46-4bee-aaf3-7faa88630aba"
      },
      "execution_count": null,
      "outputs": [
        {
          "output_type": "stream",
          "name": "stdout",
          "text": [
            "23\n",
            "-12\n",
            "X =  11 \n",
            "\n"
          ]
        }
      ]
    },
    {
      "cell_type": "code",
      "source": [
        "A=int(input())\n",
        "B=int(input())\n",
        "X = A+B\n",
        "print(\"X = %i\"%X)"
      ],
      "metadata": {
        "colab": {
          "base_uri": "https://localhost:8080/"
        },
        "id": "mhevAoEeHIen",
        "outputId": "287052ad-fa1c-4676-d3bb-f2db29dfba5a"
      },
      "execution_count": null,
      "outputs": [
        {
          "output_type": "stream",
          "name": "stdout",
          "text": [
            "2\n",
            "-5\n",
            "X = -3\n"
          ]
        }
      ]
    },
    {
      "cell_type": "markdown",
      "source": [
        "**#1002**"
      ],
      "metadata": {
        "id": "UqdxNMjaIE7L"
      }
    },
    {
      "cell_type": "code",
      "source": [
        "R = float(input())\n",
        "A = (R*R) * 3.14159\n",
        "print(\"A=%0.4f\" %A)"
      ],
      "metadata": {
        "colab": {
          "base_uri": "https://localhost:8080/"
        },
        "id": "_5GUfn9MIGop",
        "outputId": "234be9b1-24ba-4af9-ab18-89a7df61af60"
      },
      "execution_count": null,
      "outputs": [
        {
          "output_type": "stream",
          "name": "stdout",
          "text": [
            "100.64\n",
            "A=31819.3103\n"
          ]
        }
      ]
    },
    {
      "cell_type": "markdown",
      "source": [
        "**#1003**"
      ],
      "metadata": {
        "id": "iHbJ8V_fK4Vo"
      }
    },
    {
      "cell_type": "code",
      "source": [
        "A = int(input())\n",
        "B = int(input())\n",
        "SOMA = A+B\n",
        "print(\"SOMA = %i\" %SOMA)"
      ],
      "metadata": {
        "colab": {
          "base_uri": "https://localhost:8080/"
        },
        "id": "3tUYA2XRK83G",
        "outputId": "becdd42e-f740-4512-a526-aabaea752a34"
      },
      "execution_count": null,
      "outputs": [
        {
          "output_type": "stream",
          "name": "stdout",
          "text": [
            "20\n",
            "-30\n",
            "SOMA = -10\n"
          ]
        }
      ]
    },
    {
      "cell_type": "markdown",
      "source": [
        "**#1004**"
      ],
      "metadata": {
        "id": "34ZZcXQ_Mn8l"
      }
    },
    {
      "cell_type": "code",
      "source": [
        "A = int(input())\n",
        "B = int(input())\n",
        "PROD = A*B\n",
        "print(\"PROD = %i\" %PROD)"
      ],
      "metadata": {
        "colab": {
          "base_uri": "https://localhost:8080/"
        },
        "id": "_mUTVTzHMndb",
        "outputId": "cd0e2601-5815-44c0-f8f4-b3ffc288b5e4"
      },
      "execution_count": null,
      "outputs": [
        {
          "output_type": "stream",
          "name": "stdout",
          "text": [
            "-30\n",
            "10\n",
            "PROD = -300\n"
          ]
        }
      ]
    },
    {
      "cell_type": "markdown",
      "source": [
        "**#1005**"
      ],
      "metadata": {
        "id": "py8Tb-_CN3b0"
      }
    },
    {
      "cell_type": "code",
      "source": [
        "A = float(input())\n",
        "B = float(input())\n",
        "MEDIA = (A*3.5+B*7.5)/(3.5+7.5)\n",
        "print(\"MEDIA = %0.5f\" %MEDIA)"
      ],
      "metadata": {
        "colab": {
          "base_uri": "https://localhost:8080/"
        },
        "id": "u40LG-qkN8Zo",
        "outputId": "375f5df6-4618-45a0-87f5-42197247d4b1"
      },
      "execution_count": null,
      "outputs": [
        {
          "output_type": "stream",
          "name": "stdout",
          "text": [
            "5.0\n",
            "7.1\n",
            "MEDIA = 6.43182\n"
          ]
        }
      ]
    },
    {
      "cell_type": "markdown",
      "source": [
        "**#1006**"
      ],
      "metadata": {
        "id": "giJGvIxIVrE1"
      }
    },
    {
      "cell_type": "code",
      "source": [
        "A = float(input())\n",
        "B = float(input())\n",
        "C = float(input())\n",
        "MEDIA = (A*2+B*3+C*5)/(2+3+5)\n",
        "print(\"MEDIA = %0.1f\" %MEDIA)"
      ],
      "metadata": {
        "colab": {
          "base_uri": "https://localhost:8080/"
        },
        "id": "6C-ndpzNVwy6",
        "outputId": "1c5dffc5-b34a-4b47-920d-037345b77042"
      },
      "execution_count": null,
      "outputs": [
        {
          "output_type": "stream",
          "name": "stdout",
          "text": [
            "5.0\n",
            "6.0\n",
            "7.0\n",
            "MEDIA = 6.3\n"
          ]
        }
      ]
    },
    {
      "cell_type": "markdown",
      "source": [],
      "metadata": {
        "id": "jzQUoEIGWy2y"
      }
    },
    {
      "cell_type": "markdown",
      "source": [
        "**#1007** Read four integer values named A, B, C and D. Calculate and print the difference of product A and B by the product of C and D (A * B - C * D).\n",
        "\n"
      ],
      "metadata": {
        "id": "TgBkvBb7W00K"
      }
    },
    {
      "cell_type": "code",
      "source": [
        "A = int(input())\n",
        "B = int(input())\n",
        "C = int(input())\n",
        "D = int(input())\n",
        "DIFERENCA = (A * B - C * D)\n",
        "print(\"DIFERENCA = %i\" %DIFERENCA)\n",
        "\n"
      ],
      "metadata": {
        "colab": {
          "base_uri": "https://localhost:8080/"
        },
        "id": "h7HsPaSjW4SS",
        "outputId": "5ba6bd25-6eff-4b33-dd9f-4299d037b833"
      },
      "execution_count": null,
      "outputs": [
        {
          "output_type": "stream",
          "name": "stdout",
          "text": [
            "0\n",
            "0\n",
            "7\n",
            "8\n",
            "DIFERENCA = -56\n"
          ]
        }
      ]
    },
    {
      "cell_type": "markdown",
      "source": [
        "**#1008** Write a program that reads an employee's number, his/her worked hours number in a month and the amount he received per hour. Print the employee's number and salary that he/she will receive at end of the month, with two decimal places."
      ],
      "metadata": {
        "id": "uNuZ_Hj8aFOm"
      }
    },
    {
      "cell_type": "code",
      "source": [
        "a= int(input())\n",
        "b= int(input())\n",
        "c= float(input())\n",
        "print(\"NUMBER = \",a)\n",
        "mult=b*c\n",
        "print(\"SALARY = U$ %0.2f\"%SALARY)"
      ],
      "metadata": {
        "id": "xtEotLyuaSTK"
      },
      "execution_count": null,
      "outputs": []
    }
  ]
}